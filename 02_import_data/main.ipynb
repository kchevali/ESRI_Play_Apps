{
 "metadata": {
  "language_info": {
   "codemirror_mode": {
    "name": "ipython",
    "version": 3
   },
   "file_extension": ".py",
   "mimetype": "text/x-python",
   "name": "python",
   "nbconvert_exporter": "python",
   "pygments_lexer": "ipython3",
   "version": "3.8.5-final"
  },
  "orig_nbformat": 2,
  "kernelspec": {
   "name": "python3",
   "display_name": "Python 3",
   "language": "python"
  }
 },
 "nbformat": 4,
 "nbformat_minor": 2,
 "cells": [
  {
   "cell_type": "code",
   "execution_count": 38,
   "metadata": {},
   "outputs": [],
   "source": [
    "try:\n",
    "    with open(\"login.txt\") as file: # Use file to refer to the file object\n",
    "        username,password = tuple(file.read().split('\\n'))\n",
    "except:\n",
    "    username = input(\"Please enter your username\")\n",
    "    password = input(\"Please enter your password\")\n",
    "    with open(\"login.txt\",\"w\") as file: # Use file to refer to the file object\n",
    "        file.write(username + '\\n' + password)\n",
    "        print(\"Saved credentials successfully\")\n",
    "# print(\"username:'\"+username+\"'\")\n",
    "# print(\"password:'\"+password+\"'\")"
   ]
  },
  {
   "cell_type": "code",
   "execution_count": 41,
   "metadata": {},
   "outputs": [
    {
     "output_type": "stream",
     "name": "stdout",
     "text": [
      "Login successful!!\n"
     ]
    }
   ],
   "source": [
    "from arcgis.gis import GIS\n",
    "\n",
    "gis = GIS(\"https://www.arcgis.com\", username=username, password=password)\n",
    "print(\"Login successful!!\")"
   ]
  },
  {
   "cell_type": "code",
   "execution_count": 40,
   "metadata": {},
   "outputs": [],
   "source": [
    "parks_properties = {\n",
    "    'title': 'Parks and Open Space',\n",
    "    'tags': 'parks, open data, tutorials',\n",
    "    'type': 'Shapefile'\n",
    "}"
   ]
  },
  {
   "cell_type": "code",
   "execution_count": 39,
   "metadata": {},
   "outputs": [
    {
     "output_type": "stream",
     "name": "stderr",
     "text": [
      "Error: this data was already created.\n"
     ]
    },
    {
     "output_type": "execute_result",
     "data": {
      "text/plain": [
       "<Item title:\"Parks and Open Space\" type:Shapefile owner:kchevali123>"
      ],
      "text/html": "<div class=\"item_container\" style=\"height: auto; overflow: hidden; border: 1px solid #cfcfcf; border-radius: 2px; background: #f6fafa; line-height: 1.21429em; padding: 10px;\">\n                    <div class=\"item_left\" style=\"width: 210px; float: left;\">\n                       <a href='https://www.arcgis.com/home/item.html?id=d9789e6e596549c28c261086b4765b62' target='_blank'>\n                        <img src='http://static.arcgis.com/images/desktopapp.png' class=\"itemThumbnail\">\n                       </a>\n                    </div>\n\n                    <div class=\"item_right\"     style=\"float: none; width: auto; overflow: hidden;\">\n                        <a href='https://www.arcgis.com/home/item.html?id=d9789e6e596549c28c261086b4765b62' target='_blank'><b>Parks and Open Space</b>\n                        </a>\n                        <br/><img src='https://www.arcgis.com/home/js/jsapi/esri/css/images/item_type_icons/datafiles16.png' style=\"vertical-align:middle;\">Shapefile by kchevali123\n                        <br/>Last Modified: January 10, 2021\n                        <br/>0 comments, 0 views\n                    </div>\n                </div>\n                "
     },
     "metadata": {},
     "execution_count": 39
    }
   ],
   "source": [
    "data_file_location = '../01_download_data/data/LAHubDatasets/LA_Hub_Datasets/Parks_and_Open_Space.zip'\n",
    "try:\n",
    "    parks_shp = gis.content.add(parks_properties, data=data_file_location)\n",
    "except:\n",
    "    print(\"Error: this data was already created.\",file=sys.stderr)\n",
    "\n",
    " # You can now visualize the Item object `parks_shp` in rich HTML notation in your notebook.\n",
    "parks_shp"
   ]
  },
  {
   "cell_type": "code",
   "execution_count": 42,
   "metadata": {},
   "outputs": [
    {
     "output_type": "stream",
     "name": "stderr",
     "text": [
      "Error: check your user privilleges to publish\n"
     ]
    }
   ],
   "source": [
    "try:\n",
    "    parks_feature_layer_item = parks_shp.publish()\n",
    "\n",
    "    # Then visualize the new feature layer\n",
    "    parks_feature_layer_item\n",
    "    print(\"URL:\",parks_feature_layer_item.url)\n",
    "except:\n",
    "    print(\"Error: check your user privilleges to publish\",file=sys.stderr)"
   ]
  },
  {
   "cell_type": "code",
   "execution_count": 1,
   "metadata": {},
   "outputs": [
    {
     "output_type": "error",
     "ename": "NameError",
     "evalue": "name 'parks_feature_layer_item' is not defined",
     "traceback": [
      "\u001b[0;31m---------------------------------------------------------------------------\u001b[0m",
      "\u001b[0;31mNameError\u001b[0m                                 Traceback (most recent call last)",
      "\u001b[0;32m<ipython-input-1-ce4ad9e514e1>\u001b[0m in \u001b[0;36m<module>\u001b[0;34m\u001b[0m\n\u001b[1;32m      1\u001b[0m \u001b[0;32mfrom\u001b[0m \u001b[0marcgis\u001b[0m\u001b[0;34m.\u001b[0m\u001b[0mfeatures\u001b[0m \u001b[0;32mimport\u001b[0m \u001b[0mFeatureLayer\u001b[0m\u001b[0;34m\u001b[0m\u001b[0;34m\u001b[0m\u001b[0m\n\u001b[1;32m      2\u001b[0m \u001b[0;34m\u001b[0m\u001b[0m\n\u001b[0;32m----> 3\u001b[0;31m \u001b[0mlayer\u001b[0m \u001b[0;34m=\u001b[0m \u001b[0mFeatureLayer\u001b[0m\u001b[0;34m(\u001b[0m\u001b[0mparks_feature_layer_item\u001b[0m\u001b[0;34m.\u001b[0m\u001b[0murl\u001b[0m\u001b[0;34m)\u001b[0m\u001b[0;34m\u001b[0m\u001b[0;34m\u001b[0m\u001b[0m\n\u001b[0m",
      "\u001b[0;31mNameError\u001b[0m: name 'parks_feature_layer_item' is not defined"
     ]
    }
   ],
   "source": [
    "from arcgis.features import FeatureLayer\n",
    "\n",
    "layer = FeatureLayer(parks_feature_layer_item.url)"
   ]
  },
  {
   "cell_type": "code",
   "execution_count": null,
   "metadata": {},
   "outputs": [],
   "source": []
  }
 ]
}