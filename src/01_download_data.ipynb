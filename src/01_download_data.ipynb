{
 "metadata": {
  "language_info": {
   "codemirror_mode": {
    "name": "ipython",
    "version": 3
   },
   "file_extension": ".py",
   "mimetype": "text/x-python",
   "name": "python",
   "nbconvert_exporter": "python",
   "pygments_lexer": "ipython3",
   "version": "3.8.5-final"
  },
  "orig_nbformat": 2,
  "kernelspec": {
   "name": "python3",
   "display_name": "Python 3",
   "language": "python"
  }
 },
 "nbformat": 4,
 "nbformat_minor": 2,
 "cells": [
  {
   "cell_type": "code",
   "execution_count": 1,
   "metadata": {},
   "outputs": [],
   "source": [
    "#setup\n",
    "from arcgis.gis import GIS\n",
    "\n",
    "# Python Standard Library Modules\n",
    "from pathlib import Path\n",
    "from zipfile import ZipFile"
   ]
  },
  {
   "cell_type": "code",
   "execution_count": 2,
   "metadata": {},
   "outputs": [],
   "source": [
    "public_data_item_id = 'a04933c045714492bda6886f355416f2'"
   ]
  },
  {
   "cell_type": "code",
   "execution_count": 3,
   "metadata": {},
   "outputs": [],
   "source": [
    "anon_gis = GIS()"
   ]
  },
  {
   "cell_type": "code",
   "execution_count": 4,
   "metadata": {},
   "outputs": [
    {
     "output_type": "execute_result",
     "data": {
      "text/plain": [
       "<Item title:\"ArcGIS Tutorial Datasets\" type:Code Sample owner:esri_devlabs>"
      ],
      "text/html": "<div class=\"item_container\" style=\"height: auto; overflow: hidden; border: 1px solid #cfcfcf; border-radius: 2px; background: #f6fafa; line-height: 1.21429em; padding: 10px;\">\n                    <div class=\"item_left\" style=\"width: 210px; float: left;\">\n                       <a href='https://www.arcgis.com/home/item.html?id=a04933c045714492bda6886f355416f2' target='_blank'>\n                        <img src='https://www.arcgis.com/sharing/rest//content/items/a04933c045714492bda6886f355416f2/info/thumbnail/thumbnail.png' class=\"itemThumbnail\">\n                       </a>\n                    </div>\n\n                    <div class=\"item_right\"     style=\"float: none; width: auto; overflow: hidden;\">\n                        <a href='https://www.arcgis.com/home/item.html?id=a04933c045714492bda6886f355416f2' target='_blank'><b>ArcGIS Tutorial Datasets</b>\n                        </a>\n                        <br/>Datasets for ArcGIS Tutorials<img src='https://www.arcgis.com/home/js/jsapi/esri/css/images/item_type_icons/layers16.png' style=\"vertical-align:middle;\">Code Sample by esri_devlabs\n                        <br/>Last Modified: July 07, 2020\n                        <br/>5 comments, 18900 views\n                    </div>\n                </div>\n                "
     },
     "metadata": {},
     "execution_count": 4
    }
   ],
   "source": [
    "#how to search arcgis online for item by id\n",
    "data_item = anon_gis.content.get(public_data_item_id)\n",
    "data_item"
   ]
  },
  {
   "cell_type": "code",
   "execution_count": 5,
   "metadata": {},
   "outputs": [
    {
     "output_type": "execute_result",
     "data": {
      "text/plain": [
       "'../assets/data/LAHubDatasets.zip'"
      ]
     },
     "metadata": {},
     "execution_count": 5
    }
   ],
   "source": [
    "#download item to local file\n",
    "data_path = Path('../assets/data')\n",
    "\n",
    "if not data_path.exists():\n",
    "    data_path.mkdir()\n",
    "\n",
    "zip_path = data_path.joinpath('LAHubDatasets.zip')\n",
    "extract_path = data_path.joinpath('LAHubDatasets')\n",
    "\n",
    "data_item.download(save_path=data_path)"
   ]
  },
  {
   "cell_type": "code",
   "execution_count": 6,
   "metadata": {},
   "outputs": [],
   "source": [
    "zip_file = ZipFile(zip_path)#data/LAHubDatasets.zip\n",
    "zip_file.extractall(path=extract_path)"
   ]
  },
  {
   "cell_type": "code",
   "execution_count": 7,
   "metadata": {},
   "outputs": [
    {
     "output_type": "execute_result",
     "data": {
      "text/plain": [
       "['__MACOSX', 'LA_Hub_Datasets']"
      ]
     },
     "metadata": {},
     "execution_count": 7
    }
   ],
   "source": [
    "list(file.name for file in extract_path.glob('*'))"
   ]
  }
 ]
}