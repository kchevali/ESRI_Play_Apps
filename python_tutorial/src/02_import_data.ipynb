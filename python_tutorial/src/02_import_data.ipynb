{
 "metadata": {
  "language_info": {
   "codemirror_mode": {
    "name": "ipython",
    "version": 3
   },
   "file_extension": ".py",
   "mimetype": "text/x-python",
   "name": "python",
   "nbconvert_exporter": "python",
   "pygments_lexer": "ipython3",
   "version": "3.8.5-final"
  },
  "orig_nbformat": 2,
  "kernelspec": {
   "name": "python3",
   "display_name": "Python 3",
   "language": "python"
  }
 },
 "nbformat": 4,
 "nbformat_minor": 2,
 "cells": [
  {
   "cell_type": "code",
   "execution_count": 1,
   "metadata": {},
   "outputs": [
    {
     "output_type": "stream",
     "name": "stdout",
     "text": [
      "Login successful!!\n"
     ]
    }
   ],
   "source": [
    "from tools import arcgisLogin\n",
    "gis = arcgisLogin()"
   ]
  },
  {
   "cell_type": "code",
   "execution_count": 2,
   "metadata": {},
   "outputs": [],
   "source": [
    "parks_properties = {\n",
    "    'title': 'Parks and Open Space',\n",
    "    'tags': 'parks, open data, tutorials',\n",
    "    'type': 'Shapefile'\n",
    "}"
   ]
  },
  {
   "cell_type": "code",
   "execution_count": 3,
   "metadata": {},
   "outputs": [
    {
     "output_type": "stream",
     "name": "stderr",
     "text": [
      "Error: this data was already created.\n"
     ]
    }
   ],
   "source": [
    "#read data from local file\n",
    "data_file_location = '../01_download_data/data/LAHubDatasets/LA_Hub_Datasets/Parks_and_Open_Space.zip'\n",
    "try:\n",
    "    parks_shp = gis.content.add(parks_properties, data=data_file_location)\n",
    "except:\n",
    "    print(\"Error: this data was already created.\",file=sys.stderr)\n",
    "    if not \"parks_shp\" in locals():\n",
    "        parks_shp = None\n",
    "\n",
    "parks_shp"
   ]
  },
  {
   "cell_type": "code",
   "execution_count": 4,
   "metadata": {},
   "outputs": [
    {
     "output_type": "stream",
     "name": "stderr",
     "text": [
      "Error: check your user privilleges to publish\n"
     ]
    }
   ],
   "source": [
    "#publish data\n",
    "try:\n",
    "    parks_feature_layer_item = parks_shp.publish()\n",
    "\n",
    "    parks_feature_layer_item\n",
    "    print(\"URL:\",parks_feature_layer_item.url)\n",
    "except:\n",
    "    print(\"Error: check your user privilleges to publish\",file=sys.stderr)\n",
    "    parks_feature_layer_item = None"
   ]
  },
  {
   "cell_type": "code",
   "execution_count": 7,
   "metadata": {},
   "outputs": [
    {
     "output_type": "stream",
     "name": "stderr",
     "text": [
      "Error:Failed to create layer\n"
     ]
    }
   ],
   "source": [
    "#Create layer from url\n",
    "if parks_feature_layer_item != None:\n",
    "    from arcgis.features import FeatureLayer\n",
    "\n",
    "    layer = FeatureLayer(parks_feature_layer_item.url)\n",
    "else:\n",
    "    print(\"Error:Failed to create layer\",file=sys.stderr)"
   ]
  },
  {
   "cell_type": "code",
   "execution_count": null,
   "metadata": {},
   "outputs": [],
   "source": []
  }
 ]
}