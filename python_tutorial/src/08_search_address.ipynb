{
 "metadata": {
  "language_info": {
   "codemirror_mode": {
    "name": "ipython",
    "version": 3
   },
   "file_extension": ".py",
   "mimetype": "text/x-python",
   "name": "python",
   "nbconvert_exporter": "python",
   "pygments_lexer": "ipython3",
   "version": "3.8.5-final"
  },
  "orig_nbformat": 2,
  "kernelspec": {
   "name": "python3",
   "display_name": "Python 3",
   "language": "python"
  }
 },
 "nbformat": 4,
 "nbformat_minor": 2,
 "cells": [
  {
   "cell_type": "code",
   "execution_count": 80,
   "metadata": {},
   "outputs": [],
   "source": [
    "from arcgis.gis import GIS\n",
    "from arcgis.geocoding import geocode, reverse_geocode\n",
    "from arcgis.geometry import Point"
   ]
  },
  {
   "cell_type": "code",
   "execution_count": 81,
   "metadata": {},
   "outputs": [],
   "source": [
    "gis = GIS()"
   ]
  },
  {
   "cell_type": "code",
   "execution_count": 82,
   "metadata": {},
   "outputs": [
    {
     "output_type": "execute_result",
     "data": {
      "text/plain": [
       "[{\"geometry\": {\"x\": -118.30053999999996, \"y\": 34.12072000000006, \"spatialReference\": {\"wkid\": 4326, \"latestWkid\": 4326}}, \"attributes\": {\"Loc_name\": \"World\", \"Status\": \"M\", \"Score\": 100, \"Match_addr\": \"Hollywood Sign\", \"LongLabel\": \"Hollywood Sign, W Observatory Rd, Los Angeles, CA, 90027, USA\", \"ShortLabel\": \"Hollywood Sign\", \"Addr_type\": \"POI\", \"Type\": \"Historical Monument\", \"PlaceName\": \"Hollywood Sign\", \"Place_addr\": \"W Observatory Rd, Los Angeles, California, 90027\", \"Phone\": \"(213) 300-0108\", \"URL\": \"http://www.visitcalifornia.com/attraction/hollywood-sign\", \"Rank\": 17, \"AddBldg\": \"Hollywood Sign\", \"AddNum\": \"\", \"AddNumFrom\": \"\", \"AddNumTo\": \"\", \"AddRange\": \"\", \"Side\": \"L\", \"StPreDir\": \"W\", \"StPreType\": \"\", \"StName\": \"Observatory\", \"StType\": \"Rd\", \"StDir\": \"\", \"BldgType\": \"\", \"BldgName\": \"\", \"LevelType\": \"\", \"LevelName\": \"\", \"UnitType\": \"\", \"UnitName\": \"\", \"SubAddr\": \"\", \"StAddr\": \"W Observatory Rd\", \"Block\": \"\", \"Sector\": \"\", \"Nbrhd\": \"Los Feliz\", \"District\": \"\", \"City\": \"Los Angeles\", \"MetroArea\": \"Los Angeles Metro Area\", \"Subregion\": \"Los Angeles County\", \"Region\": \"California\", \"RegionAbbr\": \"CA\", \"Territory\": \"\", \"Zone\": \"\", \"Postal\": \"90027\", \"PostalExt\": \"\", \"Country\": \"USA\", \"LangCode\": \"ENG\", \"Distance\": 0, \"X\": -118.30053999999996, \"Y\": 34.12072000000006, \"DisplayX\": -118.30053999999996, \"DisplayY\": 34.12072000000006, \"Xmin\": -118.30553999999995, \"Xmax\": -118.29553999999996, \"Ymin\": 34.11572000000006, \"Ymax\": 34.125720000000065, \"ExInfo\": \"\", \"OBJECTID\": 1}}]"
      ]
     },
     "metadata": {},
     "execution_count": 82
    }
   ],
   "source": [
    "#search location by name\n",
    "geocode_result = geocode(address=\"Hollywood sign\", as_featureset=True)\n",
    "geocode_result.features"
   ]
  },
  {
   "cell_type": "code",
   "execution_count": 83,
   "metadata": {},
   "outputs": [
    {
     "output_type": "display_data",
     "data": {
      "text/plain": "MapView(layout=Layout(height='400px', width='100%'))",
      "application/vnd.jupyter.widget-view+json": {
       "version_major": 2,
       "version_minor": 0,
       "model_id": "27d9c54dc8784b4caedd9ea3bd42b3e9"
      }
     },
     "metadata": {}
    },
    {
     "output_type": "display_data",
     "data": {
      "text/plain": "<IPython.core.display.HTML object>",
      "text/html": "<div class=\"map-static-img-preview-483fbae3-3264-42f5-9803-12a7629b2851\"><img src=\"\"></img></div>"
     },
     "metadata": {}
    },
    {
     "output_type": "display_data",
     "data": {
      "text/plain": "<IPython.core.display.HTML object>",
      "text/html": "<div class=\"map-html-embed-preview-483fbae3-3264-42f5-9803-12a7629b2851\"></div>"
     },
     "metadata": {}
    }
   ],
   "source": [
    "#map location by name\n",
    "m = gis.map(\"Los Angeles, CA\", zoomlevel=11)\n",
    "m.draw(geocode_result)\n",
    "m"
   ]
  },
  {
   "cell_type": "code",
   "execution_count": 84,
   "metadata": {},
   "outputs": [],
   "source": [
    "m.clear_graphics()"
   ]
  },
  {
   "cell_type": "code",
   "execution_count": 85,
   "metadata": {},
   "outputs": [],
   "source": [
    "#create point from dictionary\n",
    "location = {\n",
    "     'Y': 34.0195,                 # `Y` is latitude\n",
    "     'X': -118.4912,               # `X` is longitude\n",
    "     'spatialReference': {\n",
    "         'wkid':4326\n",
    "     }\n",
    "}\n",
    "unknown_pt = Point(location)"
   ]
  },
  {
   "cell_type": "code",
   "execution_count": 86,
   "metadata": {},
   "outputs": [
    {
     "output_type": "execute_result",
     "data": {
      "text/plain": [
       "{'address': {'Match_addr': 'Jack in the Box',\n",
       "  'LongLabel': 'Jack in the Box, 802 Santa Monica Blvd, Santa Monica, CA, 90401, USA',\n",
       "  'ShortLabel': 'Jack in the Box',\n",
       "  'Addr_type': 'POI',\n",
       "  'Type': 'Fast Food',\n",
       "  'PlaceName': 'Jack in the Box',\n",
       "  'AddNum': '802',\n",
       "  'Address': '802 Santa Monica Blvd',\n",
       "  'Block': '',\n",
       "  'Sector': '',\n",
       "  'Neighborhood': '',\n",
       "  'District': '',\n",
       "  'City': 'Santa Monica',\n",
       "  'MetroArea': '',\n",
       "  'Subregion': 'Los Angeles County',\n",
       "  'Region': 'California',\n",
       "  'Territory': '',\n",
       "  'Postal': '90401',\n",
       "  'PostalExt': '',\n",
       "  'CountryCode': 'USA'},\n",
       " 'location': {'x': -118.49097699999999,\n",
       "  'y': 34.01956500000006,\n",
       "  'spatialReference': {'wkid': 4326, 'latestWkid': 4326}}}"
      ]
     },
     "metadata": {},
     "execution_count": 86
    }
   ],
   "source": [
    "#get address from lat and long\n",
    "address = reverse_geocode(location=unknown_pt)\n",
    "address"
   ]
  },
  {
   "cell_type": "code",
   "execution_count": 87,
   "metadata": {},
   "outputs": [
    {
     "output_type": "display_data",
     "data": {
      "text/plain": "MapView(jupyter_target='notebook', layout=Layout(height='400px', width='100%'), ready=True)",
      "application/vnd.jupyter.widget-view+json": {
       "version_major": 2,
       "version_minor": 0,
       "model_id": "27d9c54dc8784b4caedd9ea3bd42b3e9"
      }
     },
     "metadata": {}
    },
    {
     "output_type": "display_data",
     "data": {
      "text/plain": "<IPython.core.display.HTML object>",
      "text/html": "<div class=\"map-static-img-preview-483fbae3-3264-42f5-9803-12a7629b2851\"><img src=\"\"></img></div>"
     },
     "metadata": {}
    },
    {
     "output_type": "display_data",
     "data": {
      "text/plain": "<IPython.core.display.HTML object>",
      "text/html": "<div class=\"map-html-embed-preview-483fbae3-3264-42f5-9803-12a7629b2851\"></div>"
     },
     "metadata": {}
    }
   ],
   "source": [
    "#display address\n",
    "m.draw(address)\n",
    "m"
   ]
  },
  {
   "cell_type": "code",
   "execution_count": 88,
   "metadata": {},
   "outputs": [],
   "source": [
    "fish_query_portland = {\n",
    "  'Address': 'fish tacos',\n",
    "  'City': 'Portland',\n",
    "  'Region': 'OR'\n",
    "}"
   ]
  },
  {
   "cell_type": "code",
   "execution_count": 89,
   "metadata": {},
   "outputs": [],
   "source": [
    "m = gis.map('Portland, Oregon', zoomlevel=11)"
   ]
  },
  {
   "cell_type": "code",
   "execution_count": 90,
   "metadata": {},
   "outputs": [
    {
     "output_type": "stream",
     "name": "stdout",
     "text": [
      "Location Count: 20\n"
     ]
    }
   ],
   "source": [
    "fish_tacos_places = geocode(fish_query_portland)\n",
    "print(\"Location Count:\",len(fish_tacos_places))"
   ]
  },
  {
   "cell_type": "code",
   "execution_count": 98,
   "metadata": {},
   "outputs": [
    {
     "output_type": "stream",
     "name": "stdout",
     "text": [
      "Loc: x:-122.67562999999996 y:45.511790000000076\n",
      "Loc: x:-70.25667999999996 y:43.65915000000007\n",
      "Loc: x:-97.31914999999998 y:27.88187000000005\n",
      "Loc: x:-86.51564999999994 y:36.57893000000007\n",
      "Loc: x:-84.97793999999999 y:40.43613000000005\n",
      "Loc: x:-72.63702999999998 y:41.577710000000025\n",
      "Loc: x:-79.48653999999993 y:42.36162000000007\n",
      "Loc: x:-84.90162999999995 y:42.87012000000004\n",
      "Loc: x:-81.77387999999996 y:39.00140000000005\n",
      "Loc: x:-91.71439999999996 y:38.71203000000003\n",
      "Loc: x:-85.03633999999994 y:34.05732000000006\n",
      "Loc: x:-97.36845999999997 y:47.49846000000008\n",
      "Loc: x:-75.09914999999995 y:40.925820000000044\n",
      "Loc: x:-91.51313999999996 y:33.23649000000006\n",
      "Loc: x:-90.85986999999994 y:43.76882000000006\n",
      "Loc: x:-87.16337999999996 y:32.15162000000004\n",
      "Loc: x:-86.19535999999994 y:30.512460000000033\n",
      "Loc: x:-84.42729999999995 y:38.79236000000003\n",
      "Loc: x:-85.44590999999997 y:37.12072000000006\n",
      "Loc: x:-107.70118999999994 y:38.081210000000056\n"
     ]
    },
    {
     "output_type": "display_data",
     "data": {
      "text/plain": "MapView(jupyter_target='notebook', layout=Layout(height='400px', width='100%'), ready=True)",
      "application/vnd.jupyter.widget-view+json": {
       "version_major": 2,
       "version_minor": 0,
       "model_id": "55f0972687634a2dbea973f0ca2c3e54"
      }
     },
     "metadata": {}
    },
    {
     "output_type": "display_data",
     "data": {
      "text/plain": "<IPython.core.display.HTML object>",
      "text/html": "<div class=\"map-static-img-preview-9a97bcf4-40c9-438f-ba81-a2d8ab51b3d8\"><img src=\"\"></img></div>"
     },
     "metadata": {}
    },
    {
     "output_type": "display_data",
     "data": {
      "text/plain": "<IPython.core.display.HTML object>",
      "text/html": "<div class=\"map-html-embed-preview-9a97bcf4-40c9-438f-ba81-a2d8ab51b3d8\"></div>"
     },
     "metadata": {}
    }
   ],
   "source": [
    "# if(len(fish_tacos_places) > 0):\n",
    "#     loc = fish_tacos_places[1]['location']\n",
    "#     m.center=[loc['x'], loc['y']]\n",
    "\n",
    "for fish_taco_place in fish_tacos_places:\n",
    "    loc = fish_taco_place['location']\n",
    "    m.draw(loc)\n",
    "    print(\"Loc: x:{} y:{}\".format(loc['x'],loc['y']))\n",
    "m"
   ]
  },
  {
   "cell_type": "code",
   "execution_count": null,
   "metadata": {},
   "outputs": [],
   "source": []
  }
 ]
}