{
 "metadata": {
  "language_info": {
   "codemirror_mode": {
    "name": "ipython",
    "version": 3
   },
   "file_extension": ".py",
   "mimetype": "text/x-python",
   "name": "python",
   "nbconvert_exporter": "python",
   "pygments_lexer": "ipython3",
   "version": "3.8.5-final"
  },
  "orig_nbformat": 2,
  "kernelspec": {
   "name": "python3",
   "display_name": "Python 3",
   "language": "python"
  }
 },
 "nbformat": 4,
 "nbformat_minor": 2,
 "cells": [
  {
   "cell_type": "code",
   "execution_count": 1,
   "metadata": {},
   "outputs": [],
   "source": [
    "from arcgis.gis import GIS\n",
    "from arcgis.geocoding import geocode"
   ]
  },
  {
   "cell_type": "code",
   "execution_count": 2,
   "metadata": {},
   "outputs": [],
   "source": [
    "gis = GIS()"
   ]
  },
  {
   "cell_type": "code",
   "execution_count": 3,
   "metadata": {},
   "outputs": [],
   "source": [
    "#search place by long/lat and category\n",
    "geocode_fs = geocode(address=None,\n",
    "                    location=[-118.71511, 34.09042],\n",
    "                    category=\"Coffee shop\",\n",
    "                    out_fields=\"Place_addr, PlaceName\",\n",
    "                    max_locations=25,\n",
    "                    as_featureset=True)"
   ]
  },
  {
   "cell_type": "code",
   "execution_count": 4,
   "metadata": {},
   "outputs": [
    {
     "output_type": "execute_result",
     "data": {
      "text/plain": [
       "   PlaceName                                         Place_addr  OBJECTID  \\\n",
       "0  Starbucks  24255 Pacific Coast Hwy, Malibu, California, 9...         1   \n",
       "1  Starbucks      26531 Agoura Rd, Calabasas, California, 91302         2   \n",
       "\n",
       "                                               SHAPE  \n",
       "0  {\"x\": -118.70941599999998, \"y\": 34.04162500000...  \n",
       "1  {\"x\": -118.70027299999998, \"y\": 34.14413300000...  "
      ],
      "text/html": "<div>\n<style scoped>\n    .dataframe tbody tr th:only-of-type {\n        vertical-align: middle;\n    }\n\n    .dataframe tbody tr th {\n        vertical-align: top;\n    }\n\n    .dataframe thead th {\n        text-align: right;\n    }\n</style>\n<table border=\"1\" class=\"dataframe\">\n  <thead>\n    <tr style=\"text-align: right;\">\n      <th></th>\n      <th>PlaceName</th>\n      <th>Place_addr</th>\n      <th>OBJECTID</th>\n      <th>SHAPE</th>\n    </tr>\n  </thead>\n  <tbody>\n    <tr>\n      <th>0</th>\n      <td>Starbucks</td>\n      <td>24255 Pacific Coast Hwy, Malibu, California, 9...</td>\n      <td>1</td>\n      <td>{\"x\": -118.70941599999998, \"y\": 34.04162500000...</td>\n    </tr>\n    <tr>\n      <th>1</th>\n      <td>Starbucks</td>\n      <td>26531 Agoura Rd, Calabasas, California, 91302</td>\n      <td>2</td>\n      <td>{\"x\": -118.70027299999998, \"y\": 34.14413300000...</td>\n    </tr>\n  </tbody>\n</table>\n</div>"
     },
     "metadata": {},
     "execution_count": 4
    }
   ],
   "source": [
    "geocode_df = geocode_fs.sdf\n",
    "geocode_df.head(2)"
   ]
  },
  {
   "cell_type": "code",
   "execution_count": 5,
   "metadata": {},
   "outputs": [],
   "source": [
    "#create map\n",
    "m = gis.map()\n",
    "m.center = [34.09042, -118.71511]           # `[latitude, longitude]`\n",
    "m.zoom = 11"
   ]
  },
  {
   "cell_type": "code",
   "execution_count": 7,
   "metadata": {},
   "outputs": [
    {
     "output_type": "display_data",
     "data": {
      "text/plain": "MapView(layout=Layout(height='400px', width='100%'))",
      "application/vnd.jupyter.widget-view+json": {
       "version_major": 2,
       "version_minor": 0,
       "model_id": "d1bee5193c154c6cac53fdb34b5a00b5"
      }
     },
     "metadata": {}
    },
    {
     "output_type": "display_data",
     "data": {
      "text/plain": "<IPython.core.display.HTML object>",
      "text/html": "<div class=\"map-static-img-preview-d3fff44c-81c5-436f-9770-e054847c58aa\"><img src=\"\"></img></div>"
     },
     "metadata": {}
    },
    {
     "output_type": "display_data",
     "data": {
      "text/plain": "<IPython.core.display.HTML object>",
      "text/html": "<div class=\"map-html-embed-preview-d3fff44c-81c5-436f-9770-e054847c58aa\"></div>"
     },
     "metadata": {}
    }
   ],
   "source": [
    "m.draw(geocode_fs)\n",
    "m"
   ]
  },
  {
   "cell_type": "code",
   "execution_count": null,
   "metadata": {},
   "outputs": [],
   "source": []
  }
 ]
}