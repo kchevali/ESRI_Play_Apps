{
 "metadata": {
  "language_info": {
   "codemirror_mode": {
    "name": "ipython",
    "version": 3
   },
   "file_extension": ".py",
   "mimetype": "text/x-python",
   "name": "python",
   "nbconvert_exporter": "python",
   "pygments_lexer": "ipython3",
   "version": "3.8.5-final"
  },
  "orig_nbformat": 2,
  "kernelspec": {
   "name": "python3",
   "display_name": "Python 3",
   "language": "python"
  }
 },
 "nbformat": 4,
 "nbformat_minor": 2,
 "cells": [
  {
   "cell_type": "code",
   "execution_count": 1,
   "metadata": {},
   "outputs": [
    {
     "output_type": "stream",
     "name": "stdout",
     "text": [
      "Login successful!!\n"
     ]
    }
   ],
   "source": [
    "from tools import arcgisLogin\n",
    "gis = arcgisLogin()"
   ]
  },
  {
   "cell_type": "code",
   "execution_count": 2,
   "metadata": {},
   "outputs": [
    {
     "output_type": "execute_result",
     "data": {
      "text/plain": [
       "[<Item title:\"Trailheads\" type:Feature Layer Collection owner:darcortesl_UDFJC>,\n",
       " <Item title:\"Trailheads\" type:Feature Layer Collection owner:shujinwang>,\n",
       " <Item title:\"Trailheads\" type:Feature Layer Collection owner:gasdsb>,\n",
       " <Item title:\"Trailheads\" type:Feature Layer Collection owner:TWSAdmin>,\n",
       " <Item title:\"Trailheads\" type:Feature Layer Collection owner:justinca>,\n",
       " <Item title:\"Eagle_demo_trailheads\" type:Feature Layer Collection owner:jrhodes_cl3>,\n",
       " <Item title:\"Trailheads\" type:Feature Layer Collection owner:YasmineAnurb>,\n",
       " <Item title:\"Trailheads\" type:Feature Layer Collection owner:jose.sanchez_sigmasl>,\n",
       " <Item title:\"Trailheads\" type:Feature Layer Collection owner:LinBQ001>,\n",
       " <Item title:\"Trailheads\" type:Feature Layer Collection owner:gustacro211>]"
      ]
     },
     "metadata": {},
     "execution_count": 2
    }
   ],
   "source": [
    "#use query to search items\n",
    "query = 'title: \"Trailheads*\" AND type: \"Feature Service\"'\n",
    "search_results = gis.content.search(query=query, max_items=10)\n",
    "search_results"
   ]
  },
  {
   "cell_type": "code",
   "execution_count": 3,
   "metadata": {},
   "outputs": [
    {
     "output_type": "execute_result",
     "data": {
      "text/plain": [
       "'https://services.arcgis.com/deQSb0Gn7gDPf3uV/arcgis/rest/services/trailheads1/FeatureServer'"
      ]
     },
     "metadata": {},
     "execution_count": 3
    }
   ],
   "source": [
    "#get query result data\n",
    "csv_data = search_results[0]\n",
    "csv_data.url"
   ]
  },
  {
   "cell_type": "code",
   "execution_count": 4,
   "metadata": {},
   "outputs": [
    {
     "output_type": "execute_result",
     "data": {
      "text/plain": [
       "'trailheads1'"
      ]
     },
     "metadata": {},
     "execution_count": 4
    }
   ],
   "source": [
    "#get layer from result\n",
    "feature_layers = csv_data.layers\n",
    "trailheads_layer = feature_layers[0]\n",
    "trailheads_layer.properties.name"
   ]
  },
  {
   "cell_type": "code",
   "execution_count": 5,
   "metadata": {},
   "outputs": [
    {
     "output_type": "stream",
     "name": "stdout",
     "text": [
      "Name: OBJECTID        \tType: nvarchar\nName: TRL_NAME        \tType: nvarchar\nName: PARK_NAME       \tType: nvarchar\nName: TRL_ID          \tType: int\nName: SEG_ID          \tType: nvarchar\nName: FEATURE         \tType: nvarchar\nName: FEAT_CMNT       \tType: nvarchar\nName: ELEV_FT         \tType: nvarchar\nName: CITY_JUR        \tType: nvarchar\nName: ZIP_CODE        \tType: nvarchar\nName: SUP_DIST        \tType: nvarchar\nName: X_STREET        \tType: nvarchar\nName: PARKING         \tType: nvarchar\nName: PHOTO           \tType: nvarchar\nName: LAT             \tType: float\nName: LON             \tType: float\nName: FID             \tType: nvarchar\nName: x               \tType: float\nName: y               \tType: float\nName: ObjectId2       \tType: int\n"
     ]
    }
   ],
   "source": [
    "#layer properties\n",
    "for field in trailheads_layer.properties['fields']:\n",
    "   print('Name: {:16s}\\tType: {}'.format(field['name'], field['actualType']))"
   ]
  },
  {
   "cell_type": "code",
   "execution_count": 6,
   "metadata": {},
   "outputs": [],
   "source": [
    "#create item on map when clicked\n",
    "from arcgis import geometry\n",
    "from arcgis import features\n",
    "\n",
    "def create_feature(_map, location):\n",
    "    try:\n",
    "        object_id = 1\n",
    "        point = geometry.Point(location)\n",
    "        feature = features.Feature(\n",
    "            geometry=point,\n",
    "            attributes={\n",
    "                'OBJECTID': object_id,\n",
    "                'PARK_NAME': 'My Park',\n",
    "                'TRL_NAME': 'Foobar Trail',\n",
    "                'ELEV_FT': '5000'\n",
    "            }\n",
    "        )\n",
    "\n",
    "        trailheads_layer.edit_features(adds=[feature])\n",
    "        _map.draw(point)\n",
    "\n",
    "    except Exception as e:\n",
    "        print(\"Couldn't create the feature. {}\".format(str(e)))"
   ]
  },
  {
   "cell_type": "code",
   "execution_count": 7,
   "metadata": {},
   "outputs": [],
   "source": [
    "#create map\n",
    "m = gis.map()\n",
    "\n",
    "m.center = [34.09042, -118.71511]           # `[latitude, longitude]`\n",
    "m.zoom = 11\n",
    "m.on_click(create_feature)"
   ]
  },
  {
   "cell_type": "code",
   "execution_count": 8,
   "metadata": {},
   "outputs": [],
   "source": [
    "m.clear_graphics()"
   ]
  },
  {
   "cell_type": "code",
   "execution_count": 9,
   "metadata": {},
   "outputs": [],
   "source": [
    "m.add_layer(trailheads_layer)"
   ]
  },
  {
   "cell_type": "code",
   "execution_count": 10,
   "metadata": {},
   "outputs": [
    {
     "output_type": "display_data",
     "data": {
      "text/plain": "MapView(layout=Layout(height='400px', width='100%'))",
      "application/vnd.jupyter.widget-view+json": {
       "version_major": 2,
       "version_minor": 0,
       "model_id": "fe7e58e1712e4f1588bf68dbf799b6fa"
      }
     },
     "metadata": {}
    },
    {
     "output_type": "display_data",
     "data": {
      "text/plain": "<IPython.core.display.HTML object>",
      "text/html": "<div class=\"map-static-img-preview-07189a2e-3c8c-4c5c-af8e-f4e4a838e980\"><img src=\"\"></img></div>"
     },
     "metadata": {}
    },
    {
     "output_type": "display_data",
     "data": {
      "text/plain": "<IPython.core.display.HTML object>",
      "text/html": "<div class=\"map-html-embed-preview-07189a2e-3c8c-4c5c-af8e-f4e4a838e980\"></div>"
     },
     "metadata": {}
    }
   ],
   "source": [
    "m"
   ]
  }
 ]
}