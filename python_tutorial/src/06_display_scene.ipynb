{
 "metadata": {
  "language_info": {
   "codemirror_mode": {
    "name": "ipython",
    "version": 3
   },
   "file_extension": ".py",
   "mimetype": "text/x-python",
   "name": "python",
   "nbconvert_exporter": "python",
   "pygments_lexer": "ipython3",
   "version": "3.8.5-final"
  },
  "orig_nbformat": 2,
  "kernelspec": {
   "name": "python3",
   "display_name": "Python 3",
   "language": "python"
  }
 },
 "nbformat": 4,
 "nbformat_minor": 2,
 "cells": [
  {
   "cell_type": "code",
   "execution_count": 2,
   "metadata": {},
   "outputs": [],
   "source": [
    "from arcgis.gis import GIS"
   ]
  },
  {
   "cell_type": "code",
   "execution_count": 3,
   "metadata": {},
   "outputs": [],
   "source": [
    "gis = GIS()"
   ]
  },
  {
   "cell_type": "code",
   "execution_count": 6,
   "metadata": {},
   "outputs": [
    {
     "output_type": "execute_result",
     "data": {
      "text/plain": [
       "[<Item title:\"Hawaii Trails\" type:Web Scene owner:khutchins_jsapi>]"
      ]
     },
     "metadata": {},
     "execution_count": 6
    }
   ],
   "source": [
    "#query based on title and item type\n",
    "webscene_search = gis.content.search(query = \"Hawaii Trails *\", item_type = \"Web Scene\")\n",
    "webscene_search"
   ]
  },
  {
   "cell_type": "code",
   "execution_count": 7,
   "metadata": {},
   "outputs": [
    {
     "output_type": "execute_result",
     "data": {
      "text/plain": [
       "<Item title:\"Hawaii Trails\" type:Web Scene owner:khutchins_jsapi>"
      ],
      "text/html": "<div class=\"item_container\" style=\"height: auto; overflow: hidden; border: 1px solid #cfcfcf; border-radius: 2px; background: #f6fafa; line-height: 1.21429em; padding: 10px;\">\n                    <div class=\"item_left\" style=\"width: 210px; float: left;\">\n                       <a href='https://www.arcgis.com/home/item.html?id=beec6cbc8d1c4ab491c087831f92a359' target='_blank'>\n                        <img src='https://www.arcgis.com/sharing/rest//content/items/beec6cbc8d1c4ab491c087831f92a359/info/thumbnail/thumbnail.jpeg' class=\"itemThumbnail\">\n                       </a>\n                    </div>\n\n                    <div class=\"item_right\"     style=\"float: none; width: auto; overflow: hidden;\">\n                        <a href='https://www.arcgis.com/home/item.html?id=beec6cbc8d1c4ab491c087831f92a359' target='_blank'><b>Hawaii Trails</b>\n                        </a>\n                        <br/>Trails in Hawaii<img src='https://www.arcgis.com/home/js/jsapi/esri/css/images/item_type_icons/websceneglobal16.png' style=\"vertical-align:middle;\">Web Scene by khutchins_jsapi\n                        <br/>Last Modified: July 03, 2018\n                        <br/>0 comments, 55 views\n                    </div>\n                </div>\n                "
     },
     "metadata": {},
     "execution_count": 7
    }
   ],
   "source": [
    "webscene_item = webscene_search[0]\n",
    "webscene_item"
   ]
  },
  {
   "cell_type": "code",
   "execution_count": 8,
   "metadata": {},
   "outputs": [
    {
     "output_type": "display_data",
     "data": {
      "text/plain": "MapView(hide_mode_switch=True, layout=Layout(height='400px', width='100%'), mode='3D')",
      "application/vnd.jupyter.widget-view+json": {
       "version_major": 2,
       "version_minor": 0,
       "model_id": "4e9a54277ff74a8d8dbfbef4d347da9d"
      }
     },
     "metadata": {}
    },
    {
     "output_type": "display_data",
     "data": {
      "text/plain": "<IPython.core.display.HTML object>",
      "text/html": "<div class=\"map-static-img-preview-09c9c5a8-75e0-418f-966a-42f2a498580c\"><img src=\"\"></img></div>"
     },
     "metadata": {}
    },
    {
     "output_type": "display_data",
     "data": {
      "text/plain": "<IPython.core.display.HTML object>",
      "text/html": "<div class=\"map-html-embed-preview-09c9c5a8-75e0-418f-966a-42f2a498580c\"></div>"
     },
     "metadata": {}
    }
   ],
   "source": [
    "#display Item object\n",
    "from arcgis.mapping import WebScene\n",
    "\n",
    "la_trails = WebScene(webscene_item)\n",
    "la_trails"
   ]
  },
  {
   "cell_type": "code",
   "execution_count": 9,
   "metadata": {},
   "outputs": [
    {
     "output_type": "stream",
     "name": "stdout",
     "text": [
      "The web scene has 1 layers.\n"
     ]
    }
   ],
   "source": [
    "operational_layers = la_trails['operationalLayers']\n",
    "n = len(operational_layers)\n",
    "print(\"The web scene has {} layers.\".format(n))"
   ]
  },
  {
   "cell_type": "code",
   "execution_count": 10,
   "metadata": {},
   "outputs": [
    {
     "output_type": "stream",
     "name": "stdout",
     "text": [
      "Hiking Trails \n\thttps://services.arcgis.com/tNJpAOha4mODLkXz/arcgis/rest/services/Hiking_Trails_Composite/FeatureServer/0\n"
     ]
    }
   ],
   "source": [
    "for layer in operational_layers:\n",
    "    print(\"{}\\n\\t{}\".format(layer['title'], layer['url']))"
   ]
  },
  {
   "cell_type": "code",
   "execution_count": null,
   "metadata": {},
   "outputs": [],
   "source": []
  }
 ]
}